{
 "cells": [
  {
   "cell_type": "code",
   "execution_count": 2,
   "id": "35835588-b1cf-4b5f-8382-81940fb2e228",
   "metadata": {},
   "outputs": [],
   "source": [
    "from pyspark.sql import SparkSession\n",
    "from pyspark.sql.types import StringType\n",
    "from pyspark.sql.functions import col, regexp_extract,sum"
   ]
  },
  {
   "cell_type": "code",
   "execution_count": 7,
   "id": "2536244f-826a-4c77-b5a0-9963ee42c53a",
   "metadata": {},
   "outputs": [],
   "source": [
    "spark = SparkSession.builder.appName(\"DataEngineeringProject\").getOrCreate()"
   ]
  },
  {
   "cell_type": "code",
   "execution_count": 8,
   "id": "91386ec7-6043-49ff-bf87-45f36b915da5",
   "metadata": {},
   "outputs": [],
   "source": [
    "df_a = spark.read.csv(\"P:/softwares and programs/Data engineering projects/Project 1/Dataset/athletes.csv\", header=True)\n",
    "df_c = spark.read.csv(\"P:/softwares and programs/Data engineering projects/Project 1/Dataset/coaches.csv\", header=True)\n",
    "df_m = spark.read.csv(\"P:/softwares and programs/Data engineering projects/Project 1/Dataset/medals.csv\", header=True)\n",
    "df_mt = spark.read.csv(\"P:/softwares and programs/Data engineering projects/Project 1/Dataset/medals_total.csv\", header=True)\n",
    "df_t = spark.read.csv(\"P:/softwares and programs/Data engineering projects/Project 1/Dataset/technical_officials.csv\", header=True)"
   ]
  },
  {
   "cell_type": "code",
   "execution_count": 9,
   "id": "d44b8dba-2e91-4e3d-ab3e-d0a7e246f7e7",
   "metadata": {},
   "outputs": [
    {
     "name": "stdout",
     "output_type": "stream",
     "text": [
      "+----------------+----------------------+------------------+----------------------+-----------------------+-------------------------+-------------------+------------------------+----------------------+---------------------------+---------------------------+-----------------------------+-----------------------+---------------+\n",
      "|name_total_nulls|short_name_total_nulls|gender_total_nulls|birth_date_total_nulls|birth_place_total_nulls|birth_country_total_nulls|country_total_nulls|country_code_total_nulls|discipline_total_nulls|discipline_code_total_nulls|residence_place_total_nulls|residence_country_total_nulls|height_m/ft_total_nulls|url_total_nulls|\n",
      "+----------------+----------------------+------------------+----------------------+-----------------------+-------------------------+-------------------+------------------------+----------------------+---------------------------+---------------------------+-----------------------------+-----------------------+---------------+\n",
      "|               0|                     0|               159|                   159|                   4048|                     3336|                  0|                       0|                   159|                          0|                       4407|                         5111|                   7001|              0|\n",
      "+----------------+----------------------+------------------+----------------------+-----------------------+-------------------------+-------------------+------------------------+----------------------+---------------------------+---------------------------+-----------------------------+-----------------------+---------------+\n",
      "\n"
     ]
    }
   ],
   "source": [
    "total_nulls = df_a.agg(*[sum(col(c).isNull().cast(\"int\")).alias(c + \"_total_nulls\") for c in df_a.columns])\n",
    "total_nulls.show()"
   ]
  },
  {
   "cell_type": "code",
   "execution_count": 10,
   "id": "9b18933a-09f9-4dd6-ad52-9df6604dee55",
   "metadata": {},
   "outputs": [],
   "source": [
    "df1_a = df_a.dropna(subset=['gender', 'birth_date', 'discipline'])\n",
    "df1_a = df1_a.drop('birth_place', 'birth_country', 'residence_place', 'residence_country', 'height_m/ft')"
   ]
  },
  {
   "cell_type": "code",
   "execution_count": 11,
   "id": "5b08bc27-5680-413e-8a3c-e410d5c79ec8",
   "metadata": {},
   "outputs": [],
   "source": [
    "df1_a = df1_a.withColumn(\"athlete_id\", regexp_extract(col(\"url\"), r'n(\\d+)-', 1))\n",
    "df1_a = df1_a.drop('url')"
   ]
  },
  {
   "cell_type": "code",
   "execution_count": 12,
   "id": "8f797530-9892-4b72-b79f-4f8ec8276bf5",
   "metadata": {},
   "outputs": [
    {
     "name": "stdout",
     "output_type": "stream",
     "text": [
      "+--------------------+-------------+------+----------+--------------------+------------+-------------------+---------------+----------+\n",
      "|                name|   short_name|gender|birth_date|             country|country_code|         discipline|discipline_code|athlete_id|\n",
      "+--------------------+-------------+------+----------+--------------------+------------+-------------------+---------------+----------+\n",
      "|     AALERUD Katrine|    AALERUD K|Female|1994-12-04|              Norway|         NOR|       Cycling Road|            CRD|   1346266|\n",
      "|         ABAD Nestor|       ABAD N|  Male|1993-03-29|               Spain|         ESP|Artistic Gymnastics|            GAR|   1355250|\n",
      "|   ABAGNALE Giovanni|   ABAGNALE G|  Male|1995-01-11|               Italy|         ITA|             Rowing|            ROW|   1321381|\n",
      "|      ABALDE Alberto|     ABALDE A|  Male|1995-12-15|               Spain|         ESP|         Basketball|            BKB|   1322233|\n",
      "|       ABALDE Tamara|     ABALDE T|Female|1989-02-06|               Spain|         ESP|         Basketball|            BKB|   1322271|\n",
      "|           ABALO Luc|      ABALO L|  Male|1984-09-06|              France|         FRA|           Handball|            HBL|   1350409|\n",
      "|        ABAROA Cesar|     ABAROA C|  Male|1996-11-18|               Chile|         CHI|             Rowing|            ROW|   1309960|\n",
      "|       ABASS Abobakr|      ABASS A|  Male|1998-11-01|               Sudan|         SUD|           Swimming|            SWM|   1344792|\n",
      "|  ABBAGNALE Vincenzo|  ABBAGNALE V|  Male|1993-03-13|               Italy|         ITA|             Rowing|            ROW|   1331787|\n",
      "|    ABBASALI Hamideh|   ABBASALI H|Female|1990-03-14|Islamic Republic ...|         IRI|             Karate|            KTE|   1284763|\n",
      "|       ABBASOV Islam|    ABBASOV I|  Male|1996-03-24|          Azerbaijan|         AZE|          Wrestling|            WRE|   1433032|\n",
      "|        ABBINGH Lois|    ABBINGH L|Female|1992-08-13|         Netherlands|         NED|           Handball|            HBL|   1456949|\n",
      "|         ABBOT Emily|      ABBOT E|Female|1997-02-28|           Australia|         AUS|Rhythmic Gymnastics|            GRY|   1349883|\n",
      "|       ABBOTT Monica|     ABBOTT M|Female|1985-07-28|United States of ...|         USA|  Baseball/Softball|            BSB|   1310126|\n",
      "|ABDALLA Abubaker ...|   ABDALLA AH|  Male|1996-08-28|               Qatar|         QAT|          Athletics|            ATH|   1328854|\n",
      "| ABDALRASOOL Mohamed|ABDALRASOOL M|  Male|1993-07-24|               Sudan|         SUD|               Judo|            JUD|   1898618|\n",
      "|   ABDEL LATIF Radwa|ABDEL LATIF R|Female|1989-10-15|               Egypt|         EGY|           Shooting|            SHO|   1306332|\n",
      "|    ABDEL RAZEK Samy|ABDEL RAZEK S|  Male|1980-04-10|               Egypt|         EGY|           Shooting|            SHO|   1306339|\n",
      "|    ABDELAAL Mohamed|   ABDELAAL M|  Male|1990-07-23|               Egypt|         EGY|               Judo|            JUD|   1301765|\n",
      "|   ABDELAZIZ Abdalla|  ABDELAZIZ A|  Male|1999-03-29|               Egypt|         EGY|             Karate|            KTE|   1306315|\n",
      "+--------------------+-------------+------+----------+--------------------+------------+-------------------+---------------+----------+\n",
      "only showing top 20 rows\n",
      "\n"
     ]
    }
   ],
   "source": [
    "df1_a.show()"
   ]
  },
  {
   "cell_type": "code",
   "execution_count": 13,
   "id": "6ef981a5-0ba8-4926-9565-ead013b8645c",
   "metadata": {},
   "outputs": [
    {
     "name": "stdout",
     "output_type": "stream",
     "text": [
      "+--------------------+---------------+-----------+---------------+--------------------+-----------------+-------------------+--------------------+---------------+\n",
      "|           name_null|short_name_null|gender_null|birth_date_null|        country_null|country_code_null|    discipline_null|discipline_code_null|athlete_id_null|\n",
      "+--------------------+---------------+-----------+---------------+--------------------+-----------------+-------------------+--------------------+---------------+\n",
      "|     AALERUD Katrine|      AALERUD K|     Female|     1994-12-04|              Norway|              NOR|       Cycling Road|                 CRD|        1346266|\n",
      "|         ABAD Nestor|         ABAD N|       Male|     1993-03-29|               Spain|              ESP|Artistic Gymnastics|                 GAR|        1355250|\n",
      "|   ABAGNALE Giovanni|     ABAGNALE G|       Male|     1995-01-11|               Italy|              ITA|             Rowing|                 ROW|        1321381|\n",
      "|      ABALDE Alberto|       ABALDE A|       Male|     1995-12-15|               Spain|              ESP|         Basketball|                 BKB|        1322233|\n",
      "|       ABALDE Tamara|       ABALDE T|     Female|     1989-02-06|               Spain|              ESP|         Basketball|                 BKB|        1322271|\n",
      "|           ABALO Luc|        ABALO L|       Male|     1984-09-06|              France|              FRA|           Handball|                 HBL|        1350409|\n",
      "|        ABAROA Cesar|       ABAROA C|       Male|     1996-11-18|               Chile|              CHI|             Rowing|                 ROW|        1309960|\n",
      "|       ABASS Abobakr|        ABASS A|       Male|     1998-11-01|               Sudan|              SUD|           Swimming|                 SWM|        1344792|\n",
      "|  ABBAGNALE Vincenzo|    ABBAGNALE V|       Male|     1993-03-13|               Italy|              ITA|             Rowing|                 ROW|        1331787|\n",
      "|    ABBASALI Hamideh|     ABBASALI H|     Female|     1990-03-14|Islamic Republic ...|              IRI|             Karate|                 KTE|        1284763|\n",
      "|       ABBASOV Islam|      ABBASOV I|       Male|     1996-03-24|          Azerbaijan|              AZE|          Wrestling|                 WRE|        1433032|\n",
      "|        ABBINGH Lois|      ABBINGH L|     Female|     1992-08-13|         Netherlands|              NED|           Handball|                 HBL|        1456949|\n",
      "|         ABBOT Emily|        ABBOT E|     Female|     1997-02-28|           Australia|              AUS|Rhythmic Gymnastics|                 GRY|        1349883|\n",
      "|       ABBOTT Monica|       ABBOTT M|     Female|     1985-07-28|United States of ...|              USA|  Baseball/Softball|                 BSB|        1310126|\n",
      "|ABDALLA Abubaker ...|     ABDALLA AH|       Male|     1996-08-28|               Qatar|              QAT|          Athletics|                 ATH|        1328854|\n",
      "| ABDALRASOOL Mohamed|  ABDALRASOOL M|       Male|     1993-07-24|               Sudan|              SUD|               Judo|                 JUD|        1898618|\n",
      "|   ABDEL LATIF Radwa|  ABDEL LATIF R|     Female|     1989-10-15|               Egypt|              EGY|           Shooting|                 SHO|        1306332|\n",
      "|    ABDEL RAZEK Samy|  ABDEL RAZEK S|       Male|     1980-04-10|               Egypt|              EGY|           Shooting|                 SHO|        1306339|\n",
      "|    ABDELAAL Mohamed|     ABDELAAL M|       Male|     1990-07-23|               Egypt|              EGY|               Judo|                 JUD|        1301765|\n",
      "|   ABDELAZIZ Abdalla|    ABDELAZIZ A|       Male|     1999-03-29|               Egypt|              EGY|             Karate|                 KTE|        1306315|\n",
      "+--------------------+---------------+-----------+---------------+--------------------+-----------------+-------------------+--------------------+---------------+\n",
      "only showing top 20 rows\n",
      "\n",
      "+----------+-----+\n",
      "|athlete_id|count|\n",
      "+----------+-----+\n",
      "+----------+-----+\n",
      "\n"
     ]
    }
   ],
   "source": [
    "df1_a = df1_a.dropDuplicates(['name'])\n",
    "df1_a.select([col(c).alias(c + \"_null\") for c in df1_a.columns]).show()\n",
    "df1_a.groupBy(\"athlete_id\").count().filter(\"count > 1\").show()"
   ]
  },
  {
   "cell_type": "code",
   "execution_count": 15,
   "id": "264d1367-77b8-4222-8e47-96adbcc33a2b",
   "metadata": {},
   "outputs": [
    {
     "data": {
      "text/plain": [
       "11470"
      ]
     },
     "execution_count": 15,
     "metadata": {},
     "output_type": "execute_result"
    }
   ],
   "source": [
    "df1_a.count()"
   ]
  },
  {
   "cell_type": "code",
   "execution_count": 13,
   "id": "a3907c17-328c-4b40-9c72-2666a1a9fc87",
   "metadata": {},
   "outputs": [
    {
     "name": "stdout",
     "output_type": "stream",
     "text": [
      "+----------------+----------------------+------------------+----------------------+------------------------+----------------------+--------------------+-----------------+---------------+\n",
      "|name_total_nulls|short_name_total_nulls|gender_total_nulls|birth_date_total_nulls|country_code_total_nulls|discipline_total_nulls|function_total_nulls|event_total_nulls|url_total_nulls|\n",
      "+----------------+----------------------+------------------+----------------------+------------------------+----------------------+--------------------+-----------------+---------------+\n",
      "|               0|                     0|                 0|                     0|                       0|                     0|                   0|              126|              0|\n",
      "+----------------+----------------------+------------------+----------------------+------------------------+----------------------+--------------------+-----------------+---------------+\n",
      "\n"
     ]
    }
   ],
   "source": [
    "total_nulls = df_c.agg(*[sum(col(c).isNull().cast(\"int\")).alias(c + \"_total_nulls\") for c in df_c.columns])\n",
    "total_nulls.show()"
   ]
  },
  {
   "cell_type": "code",
   "execution_count": 14,
   "id": "3e307562-5fb1-4c0d-b9b5-240af9898fdb",
   "metadata": {},
   "outputs": [],
   "source": [
    "df1_c = df_c.drop('event')\n",
    "df1_c = df1_c.withColumn(\"coach_id\", regexp_extract(col(\"url\"), r'n(\\d+)-', 1))\n",
    "df1_c = df1_c.drop('url')\n",
    "df1_c = df1_c.dropDuplicates(['coach_id'])"
   ]
  },
  {
   "cell_type": "code",
   "execution_count": 15,
   "id": "d950501d-cec5-4451-b981-b21e4c1a2034",
   "metadata": {},
   "outputs": [
    {
     "name": "stdout",
     "output_type": "stream",
     "text": [
      "+--------+-----+\n",
      "|coach_id|count|\n",
      "+--------+-----+\n",
      "+--------+-----+\n",
      "\n"
     ]
    }
   ],
   "source": [
    "df1_c.groupBy(\"coach_id\").count().filter(\"count > 1\").show()"
   ]
  },
  {
   "cell_type": "code",
   "execution_count": 16,
   "id": "ef7a5f59-0159-416f-985c-ff0de0543941",
   "metadata": {},
   "outputs": [
    {
     "name": "stdout",
     "output_type": "stream",
     "text": [
      "+--------------------+------------------+------+----------+------------+-----------------+----------+--------+\n",
      "|                name|        short_name|gender|birth_date|country_code|       discipline|  function|coach_id|\n",
      "+--------------------+------------------+------+----------+------------+-----------------+----------+--------+\n",
      "|    SHAHINTAB Mehran|       SHAHINTAB M|  Male|1966-03-21|         IRI|       Basketball|     Coach| 1281792|\n",
      "|         DANCER Sean|          DANCER S|  Male|1975-08-04|         IRL|           Hockey|Head Coach| 1282059|\n",
      "|       GRAINGER Adam|        GRAINGER A|  Male|1980-07-06|         IRL|           Hockey|     Coach| 1282063|\n",
      "|     LORRAINE Andrew|        LORRAINE A|  Male|1972-08-11|         ISR|Baseball/Softball|     Coach| 1282219|\n",
      "|        MULBERG Nate|         MULBERG N|  Male|1992-01-05|         ISR|Baseball/Softball|     Coach| 1282237|\n",
      "|         FULI Saiasi|            FULI S|  Male|1978-03-16|         FIJ|     Rugby Sevens|Head Coach| 1282562|\n",
      "|  BABER Gareth Colin|           BABER G|  Male|1972-05-23|         FIJ|     Rugby Sevens|Head Coach| 1282565|\n",
      "|         POWELL Neil|          POWELL N|  Male|1978-06-28|         RSA|     Rugby Sevens|Head Coach| 1284765|\n",
      "|  ZAMPIERI Francesca|        ZAMPIERI F|Female|1981-12-22|         LIE|Artistic Swimming|     Coach| 1288449|\n",
      "| SVETLICHNAYA Aliona|    SVETLICHNAYA A|Female|1981-12-18|         BLR|Artistic Swimming|     Coach| 1289288|\n",
      "|BATISTA SANTIAGO ...|BATISTA SANTIAGO G|  Male|1970-12-21|         PUR|       Basketball|     Coach| 1292801|\n",
      "|        KWIEK Marcos|           KWIEK M|  Male|1967-07-18|         DOM|       Volleyball|Head Coach| 1295679|\n",
      "|BLECHER SIDOROVA ...|BLECHER SIDOROVA S|Female|1965-06-17|         ISR|Artistic Swimming|     Coach| 1296532|\n",
      "|PAGAN CRISTOBAL A...| PAGAN CRISTOBAL A|  Male|1964-10-31|         PUR|       Basketball|     Coach| 1298218|\n",
      "|        KIRALY Karch|          KIRALY K|  Male|1960-11-03|         USA|       Volleyball|Head Coach| 1298673|\n",
      "|         SPERAW John|          SPERAW J|  Male|1971-10-18|         USA|       Volleyball|Head Coach| 1298684|\n",
      "| FUERBRINGER Matthew|     FUERBRINGER M|  Male|1974-01-29|         USA|       Volleyball|Head Coach| 1298691|\n",
      "|        WALL Michael|            WALL M|  Male|1978-10-29|         USA|       Volleyball|Head Coach| 1298692|\n",
      "|  KRIST JANSSON Aron|   KRIST JANSSON A|  Male|1972-07-14|         BRN|         Handball|     Coach| 1301237|\n",
      "|      LOFTUS Adriana|          LOFTUS A|Female|1958-06-28|         MEX|Artistic Swimming|     Coach| 1301560|\n",
      "+--------------------+------------------+------+----------+------------+-----------------+----------+--------+\n",
      "only showing top 20 rows\n",
      "\n"
     ]
    }
   ],
   "source": [
    "df1_c.show()"
   ]
  },
  {
   "cell_type": "code",
   "execution_count": 17,
   "id": "d01e168c-4b66-4b6d-a75f-fffa69155d7c",
   "metadata": {},
   "outputs": [],
   "source": [
    "df_m = df_m.withColumn(\"athlete_id\", regexp_extract(col(\"athlete_link\"), r'n(\\d+)-', 1))\n",
    "df_m = df_m.drop('athlete_link')"
   ]
  },
  {
   "cell_type": "code",
   "execution_count": 18,
   "id": "15e95396-ff76-447a-9c7c-eca64fec916c",
   "metadata": {},
   "outputs": [
    {
     "name": "stdout",
     "output_type": "stream",
     "text": [
      "+------------+----------+--------------------+------------------+-------------------+-----------+------------+---------------+--------------------+--------------------+------------+----------+\n",
      "|  medal_type|medal_code|          medal_date|athlete_short_name|       athlete_name|athlete_sex|country_code|discipline_code|               event|             country|  discipline|athlete_id|\n",
      "+------------+----------+--------------------+------------------+-------------------+-----------+------------+---------------+--------------------+--------------------+------------+----------+\n",
      "|  Gold Medal|         1|2021-07-24 00:00:...|            KIM JD|        KIM Je Deok|          X|         KOR|            ARC|          Mixed Team|   Republic of Korea|     Archery|   1440267|\n",
      "|  Gold Medal|         1|2021-07-24 00:00:...|              AN S|             AN San|          X|         KOR|            ARC|          Mixed Team|   Republic of Korea|     Archery|   1338248|\n",
      "|Silver Medal|         2|2021-07-24 00:00:...|      SCHLOESSER G|SCHLOESSER Gabriela|          X|         NED|            ARC|          Mixed Team|         Netherlands|     Archery|   1458456|\n",
      "|Silver Medal|         2|2021-07-24 00:00:...|          WIJLER S|       WIJLER Steve|          X|         NED|            ARC|          Mixed Team|         Netherlands|     Archery|   1458465|\n",
      "|Bronze Medal|         3|2021-07-24 00:00:...|         ALVAREZ L|       ALVAREZ Luis|          X|         MEX|            ARC|          Mixed Team|              Mexico|     Archery|   1294470|\n",
      "|Bronze Medal|         3|2021-07-24 00:00:...|        VALENCIA A| VALENCIA Alejandra|          X|         MEX|            ARC|          Mixed Team|              Mexico|     Archery|   1294484|\n",
      "|  Gold Medal|         1|2021-07-24 00:00:...|         CARAPAZ R|    CARAPAZ Richard|          M|         ECU|            CRD|     Men's Road Race|             Ecuador|Cycling Road|   1473746|\n",
      "|Silver Medal|         2|2021-07-24 00:00:...|        van AERT W|      van AERT Wout|          M|         BEL|            CRD|     Men's Road Race|             Belgium|Cycling Road|   1393553|\n",
      "|Bronze Medal|         3|2021-07-24 00:00:...|         POGACAR T|      POGACAR Tadej|          M|         SLO|            CRD|     Men's Road Race|            Slovenia|Cycling Road|   1429471|\n",
      "|  Gold Medal|         1|2021-07-24 00:00:...|        SZILAGYI A|      SZILAGYI Aron|          M|         HUN|            FEN|Men's Sabre Indiv...|             Hungary|     Fencing|   1343521|\n",
      "|Silver Medal|         2|2021-07-24 00:00:...|          SAMELE L|       SAMELE Luigi|          M|         ITA|            FEN|Men's Sabre Indiv...|               Italy|     Fencing|   1312472|\n",
      "|Bronze Medal|         3|2021-07-24 00:00:...|             KIM J|       KIM Junghwan|          M|         KOR|            FEN|Men's Sabre Indiv...|   Republic of Korea|     Fencing|   1335688|\n",
      "|  Gold Medal|         1|2021-07-24 00:00:...|             SUN Y|          SUN Yiwen|          W|         CHN|            FEN|Women's &Eacute;p...|People's Republic...|     Fencing|   1392791|\n",
      "|Silver Medal|         2|2021-07-24 00:00:...|        POPESCU AM|  POPESCU Ana Maria|          W|         ROU|            FEN|Women's &Eacute;p...|             Romania|     Fencing|   1290683|\n",
      "|Bronze Medal|         3|2021-07-24 00:00:...|           LEHIS K|      LEHIS Katrina|          W|         EST|            FEN|Women's &Eacute;p...|             Estonia|     Fencing|   1374081|\n",
      "|  Gold Medal|         1|2021-07-24 00:00:...|          TAKATO N|     TAKATO Naohisa|          M|         JPN|            JUD|          Men -60 kg|               Japan|        Judo|   1315348|\n",
      "|Silver Medal|         2|2021-07-24 00:00:...|           YANG YW|      YANG Yung Wei|          M|         TPE|            JUD|          Men -60 kg|      Chinese Taipei|        Judo|   1431837|\n",
      "|Bronze Medal|         3|2021-07-24 00:00:...|        MKHEIDZE L|      MKHEIDZE Luka|          M|         FRA|            JUD|          Men -60 kg|              France|        Judo|   1403680|\n",
      "|Bronze Medal|         3|2021-07-24 00:00:...|          SMETOV Y|      SMETOV Yeldos|          M|         KAZ|            JUD|          Men -60 kg|          Kazakhstan|        Judo|   1305206|\n",
      "|  Gold Medal|         1|2021-07-24 00:00:...|        KRASNIQI D|   KRASNIQI Distria|          W|         KOS|            JUD|        Women -48 kg|              Kosovo|        Judo|   1330020|\n",
      "+------------+----------+--------------------+------------------+-------------------+-----------+------------+---------------+--------------------+--------------------+------------+----------+\n",
      "only showing top 20 rows\n",
      "\n"
     ]
    }
   ],
   "source": [
    "df_m.show()"
   ]
  },
  {
   "cell_type": "code",
   "execution_count": 26,
   "id": "748ba896-404e-4be1-8cb0-de217eddc7fe",
   "metadata": {},
   "outputs": [
    {
     "name": "stdout",
     "output_type": "stream",
     "text": [
      "+----------+------------+----------+--------------------+------------------+--------------------+------------+---------------+--------------------+--------------------+-------------------+------+\n",
      "|athlete_id|  medal_type|medal_code|          medal_date|athlete_short_name|        athlete_name|country_code|discipline_code|               event|             country|         discipline|gender|\n",
      "+----------+------------+----------+--------------------+------------------+--------------------+------------+---------------+--------------------+--------------------+-------------------+------+\n",
      "|   1350409|  Gold Medal|         1|2021-08-07 00:00:...|           ABALO L|           ABALO Luc|         FRA|            HBL|                 Men|              France|           Handball|  Male|\n",
      "|   1310126|Silver Medal|         2|2021-07-27 00:00:...|          ABBOTT M|       ABBOTT Monica|         USA|            BSB|            Softball|United States of ...|  Baseball/Softball|Female|\n",
      "|   1306348|  Gold Medal|         1|2021-08-07 00:00:...|       ABDELAZIZ F|    ABDELAZIZ Feryal|         EGY|            KTE|Women's Kumite +61kg|               Egypt|             Karate|Female|\n",
      "|   1401953|Bronze Medal|         3|2021-08-08 00:00:...|            ABDI B|         ABDI Bashir|         BEL|            ATH|      Men's Marathon|             Belgium|          Athletics|  Male|\n",
      "|   1321507|Bronze Medal|         3|2021-07-28 00:00:...|       ABDULLAH RE|ABDULLAH Rahmat E...|         INA|            WLF|          Men's 73kg|           Indonesia|      Weightlifting|  Male|\n",
      "|   1285952|Bronze Medal|         3|2021-08-06 00:00:...|   ABDURAKHMONOV B|ABDURAKHMONOV Bekzod|         UZB|            WRE|Men's Freestyle 74kg|          Uzbekistan|          Wrestling|  Male|\n",
      "|   1315347|Silver Medal|         2|2021-07-31 00:00:...|             ABE H|          ABE Hifumi|         JPN|            JUD|          Mixed Team|               Japan|               Judo|  Male|\n",
      "|   1315347|  Gold Medal|         1|2021-07-25 00:00:...|             ABE H|          ABE Hifumi|         JPN|            JUD|          Men -66 kg|               Japan|               Judo|  Male|\n",
      "|   1315319|Silver Medal|         2|2021-07-31 00:00:...|             ABE U|             ABE Uta|         JPN|            JUD|          Mixed Team|               Japan|               Judo|Female|\n",
      "|   1315319|  Gold Medal|         1|2021-07-25 00:00:...|             ABE U|             ABE Uta|         JPN|            JUD|        Women -52 kg|               Japan|               Judo|Female|\n",
      "|   1469699|Silver Medal|         2|2021-07-25 00:00:...|            ABEL J|       ABEL Jennifer|         CAN|            DIV|Women's Synchroni...|              Canada|             Diving|Female|\n",
      "|   1406250|Silver Medal|         2|2021-08-02 00:00:...|        ABLIAZIN D|      ABLIAZIN Denis|         ROC|            GAR|         Men's Vault|                 ROC|Artistic Gymnastics|  Male|\n",
      "|   1406250|  Gold Medal|         1|2021-07-26 00:00:...|        ABLIAZIN D|      ABLIAZIN Denis|         ROC|            GAR|          Men's Team|                 ROC|Artistic Gymnastics|  Male|\n",
      "|   1351464|  Gold Medal|         1|2021-08-07 00:00:...|             ABNER|               ABNER|         BRA|            FBL|                 Men|              Brazil|           Football|  Male|\n",
      "|   1469883|Bronze Medal|         3|2021-08-01 00:00:...|           ADAMS V|       ADAMS Valerie|         NZL|            ATH|    Women's Shot Put|         New Zealand|          Athletics|Female|\n",
      "|   1382524|Bronze Medal|         3|2021-08-02 00:00:...|            ADAR Y|        ADAR Yasemin|         TUR|            WRE|Women's Freestyle...|              Turkey|          Wrestling|Female|\n",
      "|   1312780|  Gold Medal|         1|2021-08-07 00:00:...|         ADEBAYO B|         ADEBAYO Bam|         USA|            BKB|                 Men|United States of ...|         Basketball|  Male|\n",
      "|   1476195|Silver Medal|         2|2021-08-07 00:00:...|           AGARD T|      AGARD Terrence|         NED|            ATH|Men's 4 x 400m Relay|         Netherlands|          Athletics|  Male|\n",
      "|   1313716|  Gold Medal|         1|2021-07-27 00:00:...|        AGATSUMA H|     AGATSUMA Haruka|         JPN|            BSB|            Softball|               Japan|  Baseball/Softball|Female|\n",
      "|   1403697|  Gold Medal|         1|2021-07-31 00:00:...|      AGBEGNENOU C| AGBEGNENOU Clarisse|         FRA|            JUD|          Mixed Team|              France|               Judo|Female|\n",
      "+----------+------------+----------+--------------------+------------------+--------------------+------------+---------------+--------------------+--------------------+-------------------+------+\n",
      "only showing top 20 rows\n",
      "\n"
     ]
    }
   ],
   "source": [
    "df1_m = df_m.join(df1_a.select(\"athlete_id\"), \"athlete_id\", \"inner\")\n",
    "df1_m = df1_m.join(df1_a.select(\"athlete_id\", \"gender\"), \"athlete_id\", \"inner\")\n",
    "df1_m = df1_m.drop('athlete_sex')\n",
    "df1_m.show()"
   ]
  },
  {
   "cell_type": "code",
   "execution_count": null,
   "id": "fdb16ab8-270d-4ad9-a672-d958ad5ecbba",
   "metadata": {},
   "outputs": [],
   "source": []
  },
  {
   "cell_type": "code",
   "execution_count": 20,
   "id": "217d08fb-7095-438a-86ed-b27baf008902",
   "metadata": {},
   "outputs": [
    {
     "name": "stdout",
     "output_type": "stream",
     "text": [
      "+----------------------+----------------------+----------------------+----------------------+------------------------------+------------------------+-----------------------+------------------------+---------------------------+-----------------+-------------------+----------------------+------------------+\n",
      "|athlete_id_total_nulls|medal_type_total_nulls|medal_code_total_nulls|medal_date_total_nulls|athlete_short_name_total_nulls|athlete_name_total_nulls|athlete_sex_total_nulls|country_code_total_nulls|discipline_code_total_nulls|event_total_nulls|country_total_nulls|discipline_total_nulls|gender_total_nulls|\n",
      "+----------------------+----------------------+----------------------+----------------------+------------------------------+------------------------+-----------------------+------------------------+---------------------------+-----------------+-------------------+----------------------+------------------+\n",
      "|                     0|                     0|                     0|                     0|                             0|                       0|                      0|                       0|                          0|                0|                  0|                     0|                 0|\n",
      "+----------------------+----------------------+----------------------+----------------------+------------------------------+------------------------+-----------------------+------------------------+---------------------------+-----------------+-------------------+----------------------+------------------+\n",
      "\n"
     ]
    }
   ],
   "source": [
    "total_nulls = df1_m.agg(*[sum(col(c).isNull().cast(\"int\")).alias(c + \"_total_nulls\") for c in df1_m.columns])\n",
    "total_nulls.show()"
   ]
  },
  {
   "cell_type": "code",
   "execution_count": null,
   "id": "8cea711a-e456-4e1a-b927-c9be5d980d50",
   "metadata": {},
   "outputs": [],
   "source": []
  },
  {
   "cell_type": "code",
   "execution_count": 21,
   "id": "55fd0ced-7b41-4a84-87ab-9b4a118b8060",
   "metadata": {},
   "outputs": [
    {
     "name": "stdout",
     "output_type": "stream",
     "text": [
      "+----------------+------------------------+----------------------+------------------------+------------------------+-----------------+-------------------+\n",
      "|Rank_total_nulls|Country Code_total_nulls|Gold Medal_total_nulls|Silver Medal_total_nulls|Bronze Medal_total_nulls|Total_total_nulls|Country_total_nulls|\n",
      "+----------------+------------------------+----------------------+------------------------+------------------------+-----------------+-------------------+\n",
      "|               0|                       0|                     0|                       0|                       0|                0|                  0|\n",
      "+----------------+------------------------+----------------------+------------------------+------------------------+-----------------+-------------------+\n",
      "\n"
     ]
    }
   ],
   "source": [
    "total_nulls = df_mt.agg(*[sum(col(c).isNull().cast(\"int\")).alias(c + \"_total_nulls\") for c in df_mt.columns])\n",
    "total_nulls.show()"
   ]
  },
  {
   "cell_type": "code",
   "execution_count": 22,
   "id": "45e9f550-782a-43fb-b12b-487e431c8067",
   "metadata": {},
   "outputs": [
    {
     "name": "stdout",
     "output_type": "stream",
     "text": [
      "+----------------+----------------------+------------------+----------------------+-------------------+----------------------+--------------------+---------------+\n",
      "|name_total_nulls|short_name_total_nulls|gender_total_nulls|birth_date_total_nulls|country_total_nulls|discipline_total_nulls|function_total_nulls|url_total_nulls|\n",
      "+----------------+----------------------+------------------+----------------------+-------------------+----------------------+--------------------+---------------+\n",
      "|               0|                     0|                 0|                     0|                  0|                     0|                   0|              0|\n",
      "+----------------+----------------------+------------------+----------------------+-------------------+----------------------+--------------------+---------------+\n",
      "\n"
     ]
    }
   ],
   "source": [
    "total_nulls = df_t.agg(*[sum(col(c).isNull().cast(\"int\")).alias(c + \"_total_nulls\") for c in df_t.columns])\n",
    "total_nulls.show()\n",
    "df_t = df_t.withColumn(\"to_id\", regexp_extract(col(\"url\"), r'n(\\d+)-', 1))"
   ]
  },
  {
   "cell_type": "code",
   "execution_count": 23,
   "id": "ef09579f-aec4-4340-8f37-0593df4b40e1",
   "metadata": {},
   "outputs": [
    {
     "name": "stdout",
     "output_type": "stream",
     "text": [
      "+-------+-----+\n",
      "|  to_id|count|\n",
      "+-------+-----+\n",
      "|1573200|    2|\n",
      "|1573187|    2|\n",
      "|1573178|    2|\n",
      "|1573214|    2|\n",
      "|1573198|    2|\n",
      "|1572014|    2|\n",
      "|1573215|    2|\n",
      "|1572097|    2|\n",
      "|1573189|    2|\n",
      "|1573600|    2|\n",
      "|1572090|    2|\n",
      "|1573188|    2|\n",
      "|1572092|    2|\n",
      "|1573175|    2|\n",
      "|1572013|    2|\n",
      "|1571973|    2|\n",
      "|1573181|    2|\n",
      "|1572018|    2|\n",
      "|1571988|    2|\n",
      "|1573219|    2|\n",
      "+-------+-----+\n",
      "only showing top 20 rows\n",
      "\n"
     ]
    }
   ],
   "source": [
    "df_t.groupBy('to_id').count().filter(\"count > 1\").show()"
   ]
  },
  {
   "cell_type": "code",
   "execution_count": 24,
   "id": "69249383-9faa-43fe-9a4a-69a77a3dd1ad",
   "metadata": {},
   "outputs": [],
   "source": [
    "df1_a.toPandas().to_csv('Athletes_updated.csv',index=False)\n",
    "df1_c.toPandas().to_csv('Coaches_updated.csv',index=False)\n",
    "df1_m.toPandas().to_csv('Medals_updated.csv',index=False)\n",
    "df_mt.toPandas().to_csv('Medals_total_updated.csv',index=False)\n",
    "df_t.toPandas().to_csv('Technical_officials_updated.csv',index=False)\n"
   ]
  },
  {
   "cell_type": "code",
   "execution_count": 181,
   "id": "0b66d7e1-28d5-4d38-8a4d-f5f0b5842b97",
   "metadata": {},
   "outputs": [],
   "source": [
    "spark.stop()"
   ]
  },
  {
   "cell_type": "code",
   "execution_count": null,
   "id": "67bd6d27-9530-4acf-82f2-e420dd13592c",
   "metadata": {},
   "outputs": [],
   "source": []
  },
  {
   "cell_type": "code",
   "execution_count": null,
   "id": "4b76fabe-1fce-47d3-a950-f8d4c37bc14b",
   "metadata": {},
   "outputs": [],
   "source": []
  }
 ],
 "metadata": {
  "kernelspec": {
   "display_name": "Python 3 (ipykernel)",
   "language": "python",
   "name": "python3"
  },
  "language_info": {
   "codemirror_mode": {
    "name": "ipython",
    "version": 3
   },
   "file_extension": ".py",
   "mimetype": "text/x-python",
   "name": "python",
   "nbconvert_exporter": "python",
   "pygments_lexer": "ipython3",
   "version": "3.11.4"
  }
 },
 "nbformat": 4,
 "nbformat_minor": 5
}
