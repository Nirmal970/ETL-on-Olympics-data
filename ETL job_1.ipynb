{
 "cells": [
  {
   "cell_type": "markdown",
   "metadata": {
    "editable": true
   },
   "source": [
    "# AWS Glue Studio Notebook\n",
    "##### You are now running a AWS Glue Studio notebook; To start using your notebook you need to start an AWS Glue Interactive Session.\n"
   ]
  },
  {
   "cell_type": "markdown",
   "metadata": {
    "editable": true
   },
   "source": [
    "#### Optional: Run this cell to see available notebook commands (\"magics\").\n"
   ]
  },
  {
   "cell_type": "code",
   "execution_count": null,
   "metadata": {
    "editable": true
   },
   "outputs": [],
   "source": [
    "%help"
   ]
  },
  {
   "cell_type": "markdown",
   "metadata": {
    "editable": true
   },
   "source": [
    "####  Run this cell to set up and start your interactive session.\n"
   ]
  },
  {
   "cell_type": "code",
   "execution_count": 5,
   "metadata": {
    "editable": true
   },
   "outputs": [
    {
     "name": "stderr",
     "output_type": "stream",
     "text": [
      "You are already connected to a glueetl session cfb204e9-1265-4d58-afc5-63c9b4489ec1.\n",
      "\n",
      "No change will be made to the current session that is set as glueetl. The session configuration change will apply to newly created sessions.\n"
     ]
    },
    {
     "name": "stdout",
     "output_type": "stream",
     "text": [
      "Current idle_timeout is 2880 minutes.\n",
      "idle_timeout has been set to 2880 minutes.\n"
     ]
    },
    {
     "name": "stderr",
     "output_type": "stream",
     "text": [
      "You are already connected to a glueetl session cfb204e9-1265-4d58-afc5-63c9b4489ec1.\n",
      "\n",
      "No change will be made to the current session that is set as glueetl. The session configuration change will apply to newly created sessions.\n"
     ]
    },
    {
     "name": "stdout",
     "output_type": "stream",
     "text": [
      "Setting Glue version to: 4.0\n"
     ]
    },
    {
     "name": "stderr",
     "output_type": "stream",
     "text": [
      "You are already connected to a glueetl session cfb204e9-1265-4d58-afc5-63c9b4489ec1.\n",
      "\n",
      "No change will be made to the current session that is set as glueetl. The session configuration change will apply to newly created sessions.\n"
     ]
    },
    {
     "name": "stdout",
     "output_type": "stream",
     "text": [
      "Previous worker type: G.1X\n",
      "Setting new worker type to: G.1X\n"
     ]
    },
    {
     "name": "stderr",
     "output_type": "stream",
     "text": [
      "You are already connected to a glueetl session cfb204e9-1265-4d58-afc5-63c9b4489ec1.\n",
      "\n",
      "No change will be made to the current session that is set as glueetl. The session configuration change will apply to newly created sessions.\n"
     ]
    },
    {
     "name": "stdout",
     "output_type": "stream",
     "text": [
      "Previous number of workers: 5\n",
      "Setting new number of workers to: 5\n",
      "\n"
     ]
    }
   ],
   "source": [
    "%idle_timeout 2880\n",
    "%glue_version 4.0\n",
    "%worker_type G.1X\n",
    "%number_of_workers 5\n",
    "\n",
    "import sys\n",
    "from awsglue.transforms import *\n",
    "from awsglue.utils import getResolvedOptions\n",
    "from pyspark.context import SparkContext\n",
    "from awsglue.context import GlueContext\n",
    "from awsglue.job import Job\n",
    "from pyspark.sql.functions import col, regexp_extract,sum,isnan,when,count\n",
    "  \n",
    "sc = SparkContext.getOrCreate()\n",
    "glueContext = GlueContext(sc)\n",
    "spark = glueContext.spark_session\n",
    "job = Job(glueContext)"
   ]
  },
  {
   "cell_type": "markdown",
   "metadata": {
    "editable": true
   },
   "source": [
    "#### Example: Create a DynamicFrame from a table in the AWS Glue Data Catalog and display its schema\n"
   ]
  },
  {
   "cell_type": "code",
   "execution_count": 52,
   "metadata": {
    "editable": true
   },
   "outputs": [
    {
     "name": "stdout",
     "output_type": "stream",
     "text": [
      "root\n",
      "|-- name: string\n",
      "|-- short_name: string\n",
      "|-- gender: string\n",
      "|-- birth_date: string\n",
      "|-- birth_place: string\n",
      "|-- birth_country: string\n",
      "|-- country: string\n",
      "|-- country_code: string\n",
      "|-- discipline: string\n",
      "|-- discipline_code: string\n",
      "|-- residence_place: string\n",
      "|-- residence_country: string\n",
      "|-- height_m/ft: string\n",
      "|-- url: string\n"
     ]
    }
   ],
   "source": [
    "dyf_a = glueContext.create_dynamic_frame.from_options(connection_type=\"s3\",connection_options={\"paths\":[\"s3://bunny970/Datasets/athletes.csv\"]},\n",
    "                                                   format=\"csv\",format_options={\"withHeader\":True,\"optimizePerformance\":True})\n",
    "dyf_c = glueContext.create_dynamic_frame.from_options(connection_type=\"s3\",connection_options={\"paths\":[\"s3://bunny970/Datasets/coaches.csv\"]},\n",
    "                                                   format=\"csv\",format_options={\"withHeader\":True,\"optimizePerformance\":True})\n",
    "dyf_m = glueContext.create_dynamic_frame.from_options(connection_type=\"s3\",connection_options={\"paths\":[\"s3://bunny970/Datasets/medals.csv\"]},\n",
    "                                                   format=\"csv\",format_options={\"withHeader\":True,\"optimizePerformance\":True})\n",
    "dyf_mt = glueContext.create_dynamic_frame.from_options(connection_type=\"s3\",connection_options={\"paths\":[\"s3://bunny970/Datasets/medals_total.csv\"]},\n",
    "                                                   format=\"csv\",format_options={\"withHeader\":True,\"optimizePerformance\":True})\n",
    "dyf_t = glueContext.create_dynamic_frame.from_options(connection_type=\"s3\",connection_options={\"paths\":[\"s3://bunny970/Datasets/technical_officials.csv\"]},\n",
    "                                                   format=\"csv\",format_options={\"withHeader\":True,\"optimizePerformance\":True})\n",
    "\n",
    "dyf_a.printSchema()"
   ]
  },
  {
   "cell_type": "code",
   "execution_count": 53,
   "metadata": {
    "tags": []
   },
   "outputs": [
    {
     "name": "stdout",
     "output_type": "stream",
     "text": [
      "root\n",
      "|-- name: string\n",
      "|-- short_name: string\n",
      "|-- gender: string\n",
      "|-- birth_date: string\n",
      "|-- country_code: string\n",
      "|-- discipline: string\n",
      "|-- function: string\n",
      "|-- event: string\n",
      "|-- url: string\n"
     ]
    }
   ],
   "source": [
    "dyf_c.printSchema()"
   ]
  },
  {
   "cell_type": "code",
   "execution_count": 54,
   "metadata": {
    "tags": []
   },
   "outputs": [
    {
     "name": "stdout",
     "output_type": "stream",
     "text": [
      "root\n",
      "|-- medal_type: string\n",
      "|-- medal_code: string\n",
      "|-- medal_date: string\n",
      "|-- athlete_short_name: string\n",
      "|-- athlete_name: string\n",
      "|-- athlete_sex: string\n",
      "|-- athlete_link: string\n",
      "|-- country_code: string\n",
      "|-- discipline_code: string\n",
      "|-- event: string\n",
      "|-- country: string\n",
      "|-- discipline: string\n"
     ]
    }
   ],
   "source": [
    "dyf_m.printSchema()"
   ]
  },
  {
   "cell_type": "code",
   "execution_count": 55,
   "metadata": {
    "tags": []
   },
   "outputs": [
    {
     "name": "stdout",
     "output_type": "stream",
     "text": [
      "root\n",
      "|-- Rank: string\n",
      "|-- Country Code: string\n",
      "|-- Gold Medal: string\n",
      "|-- Silver Medal: string\n",
      "|-- Bronze Medal: string\n",
      "|-- Total: string\n",
      "|-- Country: string\n"
     ]
    }
   ],
   "source": [
    "dyf_mt.printSchema()"
   ]
  },
  {
   "cell_type": "code",
   "execution_count": 56,
   "metadata": {
    "tags": []
   },
   "outputs": [
    {
     "name": "stdout",
     "output_type": "stream",
     "text": [
      "root\n",
      "|-- name: string\n",
      "|-- short_name: string\n",
      "|-- gender: string\n",
      "|-- birth_date: string\n",
      "|-- country: string\n",
      "|-- discipline: string\n",
      "|-- function: string\n",
      "|-- url: string\n"
     ]
    }
   ],
   "source": [
    "dyf_t.printSchema()"
   ]
  },
  {
   "cell_type": "markdown",
   "metadata": {
    "editable": true
   },
   "source": [
    "#### Example: Convert the DynamicFrame to a Spark DataFrame and display a sample of the data\n"
   ]
  },
  {
   "cell_type": "code",
   "execution_count": 58,
   "metadata": {
    "editable": true
   },
   "outputs": [
    {
     "name": "stdout",
     "output_type": "stream",
     "text": [
      "\n"
     ]
    }
   ],
   "source": [
    "df_a = dyf_a.toDF()\n",
    "df_c=dyf_c.toDF()\n",
    "df_m=dyf_m.toDF()\n",
    "df_mt=dyf_mt.toDF()\n",
    "df_t=dyf_t.toDF()"
   ]
  },
  {
   "cell_type": "code",
   "execution_count": 42,
   "metadata": {
    "tags": []
   },
   "outputs": [
    {
     "name": "stdout",
     "output_type": "stream",
     "text": [
      "+----+----------+------+----------+-----------+-------------+-------+------------+----------+---------------+---------------+-----------------+-----------+---+\n",
      "|name|short_name|gender|birth_date|birth_place|birth_country|country|country_code|discipline|discipline_code|residence_place|residence_country|height_m/ft|url|\n",
      "+----+----------+------+----------+-----------+-------------+-------+------------+----------+---------------+---------------+-----------------+-----------+---+\n",
      "|   0|         0|   159|       159|       4048|         3336|      0|           0|       159|              0|           4407|             5111|       7001|  0|\n",
      "+----+----------+------+----------+-----------+-------------+-------+------------+----------+---------------+---------------+-----------------+-----------+---+\n"
     ]
    }
   ],
   "source": [
    "df_null = df_a.select([count(when(col(c).contains('None') | \\\n",
    "                            col(c).contains('NULL') | \\\n",
    "                            (col(c) == '' ),c \n",
    "                           )).alias(c)\n",
    "                    for c in df_a.columns])\n",
    "df_null.show()"
   ]
  },
  {
   "cell_type": "code",
   "execution_count": 43,
   "metadata": {
    "tags": []
   },
   "outputs": [
    {
     "name": "stdout",
     "output_type": "stream",
     "text": [
      "\n"
     ]
    }
   ],
   "source": [
    "df1_a = df_a.filter((col(\"gender\") != \"\") & (col(\"birth_date\") != \"\") & (col(\"discipline\") != \"\"))\n",
    "df1_a = df1_a.drop('birth_place', 'birth_country', 'residence_place', 'residence_country', 'height_m/ft')"
   ]
  },
  {
   "cell_type": "code",
   "execution_count": 44,
   "metadata": {
    "tags": []
   },
   "outputs": [
    {
     "name": "stdout",
     "output_type": "stream",
     "text": [
      "\n"
     ]
    }
   ],
   "source": [
    "df1_a = df1_a.withColumn(\"athlete_id\", regexp_extract(col(\"url\"), r'n(\\d+)-', 1))\n",
    "df1_a = df1_a.drop('url')"
   ]
  },
  {
   "cell_type": "code",
   "execution_count": 45,
   "metadata": {
    "tags": []
   },
   "outputs": [
    {
     "name": "stdout",
     "output_type": "stream",
     "text": [
      "+--------------------+---------------+-----------+---------------+--------------------+-----------------+-------------------+--------------------+---------------+\n",
      "|           name_null|short_name_null|gender_null|birth_date_null|        country_null|country_code_null|    discipline_null|discipline_code_null|athlete_id_null|\n",
      "+--------------------+---------------+-----------+---------------+--------------------+-----------------+-------------------+--------------------+---------------+\n",
      "|         ABAD Nestor|         ABAD N|       Male|     1993-03-29|               Spain|              ESP|Artistic Gymnastics|                 GAR|        1355250|\n",
      "|       ABASS Abobakr|        ABASS A|       Male|     1998-11-01|               Sudan|              SUD|           Swimming|                 SWM|        1344792|\n",
      "|       ABBOTT Monica|       ABBOTT M|     Female|     1985-07-28|United States of ...|              USA|  Baseball/Softball|                 BSB|        1310126|\n",
      "|ABDALLA Abubaker ...|     ABDALLA AH|       Male|     1996-08-28|               Qatar|              QAT|          Athletics|                 ATH|        1328854|\n",
      "|   ABDEL LATIF Radwa|  ABDEL LATIF R|     Female|     1989-10-15|               Egypt|              EGY|           Shooting|                 SHO|        1306332|\n",
      "|    ABDELAAL Mohamed|     ABDELAAL M|       Male|     1990-07-23|               Egypt|              EGY|               Judo|                 JUD|        1301765|\n",
      "|     ABDELAZIZ Farah|    ABDELAZIZ F|     Female|     1992-09-01|               Egypt|              EGY|       Table Tennis|                 TTE|        1296357|\n",
      "|    ABDELAZIZ Feryal|    ABDELAZIZ F|     Female|     1999-02-16|               Egypt|              EGY|             Karate|                 KTE|        1306348|\n",
      "|  ABDELSALAM Mohamed|   ABDELSALAM M|       Male|     1997-10-01|               Egypt|              EGY|           Football|                 FBL|        1381598|\n",
      "|     ABDELSALAM Nour|   ABDELSALAM N|     Female|     1993-03-29|               Egypt|              EGY|          Taekwondo|                 TKW|        1313054|\n",
      "|         ABDI Bashir|         ABDI B|       Male|     1989-02-10|             Belgium|              BEL|          Athletics|                 ATH|        1401953|\n",
      "|     ABDULHAMID Saud|   ABDULHAMID S|       Male|     1999-07-18|        Saudi Arabia|              KSA|           Football|                 FBL|        1484611|\n",
      "|ABDULJABBAR Ammar...| ABDULJABBAR AR|       Male|     1995-10-01|             Germany|              GER|             Boxing|                 BOX|        1327781|\n",
      "|  ABDULLAEV Gulomjon|    ABDULLAEV G|       Male|     1998-11-11|          Uzbekistan|              UZB|          Wrestling|                 WRE|        1285960|\n",
      "|  ABDULLAEV Muminjon|    ABDULLAEV M|       Male|     1989-12-24|          Uzbekistan|              UZB|          Wrestling|                 WRE|        1284000|\n",
      "| ABDULLAYEV Mahammad|   ABDULLAYEV M|       Male|     1999-04-06|          Azerbaijan|              AZE|             Boxing|                 BOX|        1436411|\n",
      "|ABDURAKHIMOV Rasu...| ABDURAKHIMOV R|       Male|     1996-10-03|          Uzbekistan|              UZB|Artistic Gymnastics|                 GAR|        1285163|\n",
      "|       ABE Takatoshi|          ABE T|       Male|     1991-11-12|               Japan|              JPN|          Athletics|                 ATH|        1319304|\n",
      "|       ABELA Matthew|        ABELA M|       Male|     1999-03-18|               Malta|              MLT|          Badminton|                 BDM|        1284065|\n",
      "| ABELVIK ROED Magnus| ABELVIK ROED M|       Male|     1997-07-07|              Norway|              NOR|           Handball|                 HBL|        1343652|\n",
      "+--------------------+---------------+-----------+---------------+--------------------+-----------------+-------------------+--------------------+---------------+\n",
      "only showing top 20 rows\n",
      "\n",
      "+----------+-----+\n",
      "|athlete_id|count|\n",
      "+----------+-----+\n",
      "+----------+-----+\n"
     ]
    }
   ],
   "source": [
    "df1_a = df1_a.dropDuplicates(['name'])\n",
    "df1_a.select([col(c).alias(c + \"_null\") for c in df1_a.columns]).show()\n",
    "df1_a.groupBy(\"athlete_id\").count().filter(\"count > 1\").show()"
   ]
  },
  {
   "cell_type": "code",
   "execution_count": 46,
   "metadata": {
    "tags": []
   },
   "outputs": [
    {
     "name": "stdout",
     "output_type": "stream",
     "text": [
      "+----+----------+------+----------+-------+------------+----------+---------------+----------+\n",
      "|name|short_name|gender|birth_date|country|country_code|discipline|discipline_code|athlete_id|\n",
      "+----+----------+------+----------+-------+------------+----------+---------------+----------+\n",
      "|   0|         0|     0|         0|      0|           0|         0|              0|         0|\n",
      "+----+----------+------+----------+-------+------------+----------+---------------+----------+\n"
     ]
    }
   ],
   "source": [
    "df1_null = df1_a.select([count(when(col(c).contains('None') | \\\n",
    "                            col(c).contains('NULL') | \\\n",
    "                            (col(c) == '' ),c \n",
    "                           )).alias(c)\n",
    "                    for c in df1_a.columns])\n",
    "df1_null.show()"
   ]
  },
  {
   "cell_type": "code",
   "execution_count": 59,
   "metadata": {
    "tags": []
   },
   "outputs": [
    {
     "name": "stdout",
     "output_type": "stream",
     "text": [
      "+----+----------+------+----------+------------+----------+--------+-----+---+\n",
      "|name|short_name|gender|birth_date|country_code|discipline|function|event|url|\n",
      "+----+----------+------+----------+------------+----------+--------+-----+---+\n",
      "|   0|         0|     0|         0|           0|         0|       0|  126|  0|\n",
      "+----+----------+------+----------+------------+----------+--------+-----+---+\n"
     ]
    }
   ],
   "source": [
    "total_nulls = df_c.select([count(when(col(c).contains('None') | \\\n",
    "                            col(c).contains('NULL') | \\\n",
    "                            (col(c) == '' ),c \n",
    "                           )).alias(c)\n",
    "                    for c in df_c.columns])\n",
    "total_nulls.show()"
   ]
  },
  {
   "cell_type": "code",
   "execution_count": 60,
   "metadata": {
    "tags": []
   },
   "outputs": [
    {
     "name": "stdout",
     "output_type": "stream",
     "text": [
      "\n"
     ]
    }
   ],
   "source": [
    "df1_c = df_c.drop('event')\n",
    "df1_c = df1_c.withColumn(\"coach_id\", regexp_extract(col(\"url\"), r'n(\\d+)-', 1))\n",
    "df1_c = df1_c.drop('url')\n",
    "df1_c = df1_c.dropDuplicates(['coach_id'])"
   ]
  },
  {
   "cell_type": "code",
   "execution_count": 61,
   "metadata": {
    "tags": []
   },
   "outputs": [
    {
     "name": "stdout",
     "output_type": "stream",
     "text": [
      "+--------+-----+\n",
      "|coach_id|count|\n",
      "+--------+-----+\n",
      "+--------+-----+\n"
     ]
    }
   ],
   "source": [
    "df1_c.groupBy(\"coach_id\").count().filter(\"count > 1\").show()"
   ]
  },
  {
   "cell_type": "code",
   "execution_count": 62,
   "metadata": {
    "tags": []
   },
   "outputs": [
    {
     "name": "stdout",
     "output_type": "stream",
     "text": [
      "+--------------------+------------------+------+----------+------------+-----------------+----------+--------+\n",
      "|                name|        short_name|gender|birth_date|country_code|       discipline|  function|coach_id|\n",
      "+--------------------+------------------+------+----------+------------+-----------------+----------+--------+\n",
      "|    SHAHINTAB Mehran|       SHAHINTAB M|  Male|1966-03-21|         IRI|       Basketball|     Coach| 1281792|\n",
      "|         DANCER Sean|          DANCER S|  Male|1975-08-04|         IRL|           Hockey|Head Coach| 1282059|\n",
      "|       GRAINGER Adam|        GRAINGER A|  Male|1980-07-06|         IRL|           Hockey|     Coach| 1282063|\n",
      "|     LORRAINE Andrew|        LORRAINE A|  Male|1972-08-11|         ISR|Baseball/Softball|     Coach| 1282219|\n",
      "|        MULBERG Nate|         MULBERG N|  Male|1992-01-05|         ISR|Baseball/Softball|     Coach| 1282237|\n",
      "|         FULI Saiasi|            FULI S|  Male|1978-03-16|         FIJ|     Rugby Sevens|Head Coach| 1282562|\n",
      "|  BABER Gareth Colin|           BABER G|  Male|1972-05-23|         FIJ|     Rugby Sevens|Head Coach| 1282565|\n",
      "|         POWELL Neil|          POWELL N|  Male|1978-06-28|         RSA|     Rugby Sevens|Head Coach| 1284765|\n",
      "|  ZAMPIERI Francesca|        ZAMPIERI F|Female|1981-12-22|         LIE|Artistic Swimming|     Coach| 1288449|\n",
      "| SVETLICHNAYA Aliona|    SVETLICHNAYA A|Female|1981-12-18|         BLR|Artistic Swimming|     Coach| 1289288|\n",
      "|BATISTA SANTIAGO ...|BATISTA SANTIAGO G|  Male|1970-12-21|         PUR|       Basketball|     Coach| 1292801|\n",
      "|        KWIEK Marcos|           KWIEK M|  Male|1967-07-18|         DOM|       Volleyball|Head Coach| 1295679|\n",
      "|BLECHER SIDOROVA ...|BLECHER SIDOROVA S|Female|1965-06-17|         ISR|Artistic Swimming|     Coach| 1296532|\n",
      "|PAGAN CRISTOBAL A...| PAGAN CRISTOBAL A|  Male|1964-10-31|         PUR|       Basketball|     Coach| 1298218|\n",
      "|        KIRALY Karch|          KIRALY K|  Male|1960-11-03|         USA|       Volleyball|Head Coach| 1298673|\n",
      "|         SPERAW John|          SPERAW J|  Male|1971-10-18|         USA|       Volleyball|Head Coach| 1298684|\n",
      "| FUERBRINGER Matthew|     FUERBRINGER M|  Male|1974-01-29|         USA|       Volleyball|Head Coach| 1298691|\n",
      "|        WALL Michael|            WALL M|  Male|1978-10-29|         USA|       Volleyball|Head Coach| 1298692|\n",
      "|  KRIST JANSSON Aron|   KRIST JANSSON A|  Male|1972-07-14|         BRN|         Handball|     Coach| 1301237|\n",
      "|      LOFTUS Adriana|          LOFTUS A|Female|1958-06-28|         MEX|Artistic Swimming|     Coach| 1301560|\n",
      "+--------------------+------------------+------+----------+------------+-----------------+----------+--------+\n",
      "only showing top 20 rows\n"
     ]
    }
   ],
   "source": [
    "df1_c.show()"
   ]
  },
  {
   "cell_type": "code",
   "execution_count": 63,
   "metadata": {
    "tags": []
   },
   "outputs": [
    {
     "name": "stdout",
     "output_type": "stream",
     "text": [
      "\n"
     ]
    }
   ],
   "source": [
    "df_m = df_m.withColumn(\"athlete_id\", regexp_extract(col(\"athlete_link\"), r'n(\\d+)-', 1))\n",
    "df_m = df_m.drop('athlete_link')"
   ]
  },
  {
   "cell_type": "code",
   "execution_count": 64,
   "metadata": {
    "tags": []
   },
   "outputs": [
    {
     "name": "stdout",
     "output_type": "stream",
     "text": [
      "+----------+------------+----------+--------------------+------------------+--------------------+------------+---------------+--------------------+--------------------+-----------------+------+\n",
      "|athlete_id|  medal_type|medal_code|          medal_date|athlete_short_name|        athlete_name|country_code|discipline_code|               event|             country|       discipline|gender|\n",
      "+----------+------------+----------+--------------------+------------------+--------------------+------------+---------------+--------------------+--------------------+-----------------+------+\n",
      "|   1310126|Silver Medal|         2|2021-07-27 00:00:...|          ABBOTT M|       ABBOTT Monica|         USA|            BSB|            Softball|United States of ...|Baseball/Softball|Female|\n",
      "|   1444160|  Gold Medal|         1|2021-07-31 00:00:...|        ANDERSON F|      ANDERSON Freya|         GBR|            SWM|Mixed 4 x 100m Me...|       Great Britain|         Swimming|Female|\n",
      "|   1324437|Silver Medal|         2|2021-08-06 00:00:...|      ANDREJCZYK M|    ANDREJCZYK Maria|         POL|            ATH|Women's Javelin T...|              Poland|        Athletics|Female|\n",
      "|   1315327|Silver Medal|         2|2021-07-31 00:00:...|            ARAI C|        ARAI Chizuru|         JPN|            JUD|          Mixed Team|               Japan|             Judo|Female|\n",
      "|   1315327|  Gold Medal|         1|2021-07-28 00:00:...|            ARAI C|        ARAI Chizuru|         JPN|            JUD|        Women -70 kg|               Japan|             Judo|Female|\n",
      "|   1425895|Bronze Medal|         3|2021-08-05 00:00:...|          BAKSHI G|         BAKSHI Gleb|         ROC|            BOX|Men's Middle (69-...|                 ROC|           Boxing|  Male|\n",
      "|   1330685|  Gold Medal|         1|2021-08-04 00:00:...|        BELENIUK Z|       BELENIUK Zhan|         UKR|            WRE|Men's Greco-Roman...|             Ukraine|        Wrestling|  Male|\n",
      "|   1374079|  Gold Medal|         1|2021-07-27 00:00:...|       BELJAJEVA J|     BELJAJEVA Julia|         EST|            FEN|Women's &Eacute;p...|             Estonia|          Fencing|Female|\n",
      "|   1483108|Silver Medal|         2|2021-08-05 00:00:...|           BELTZ J|        BELTZ Joshua|         AUS|            HOC|                 Men|           Australia|           Hockey|  Male|\n",
      "|   1312826|  Gold Medal|         1|2021-08-08 00:00:...|            BIRD S|            BIRD Sue|         USA|            BKB|               Women|United States of ...|       Basketball|Female|\n",
      "|   1344635|Bronze Medal|         3|2021-08-08 00:00:...|         BJELICA A|         BJELICA Ana|         SRB|            VVO|               Women|              Serbia|       Volleyball|Female|\n",
      "|   1407688|Silver Medal|         2|2021-08-08 00:00:...|    BOBROVNIKOVA V|BOBROVNIKOVA Vlad...|         ROC|            HBL|               Women|                 ROC|         Handball|Female|\n",
      "|   1312771|  Gold Medal|         1|2021-08-07 00:00:...|          BOOKER D|        BOOKER Devin|         USA|            BKB|                 Men|United States of ...|       Basketball|  Male|\n",
      "|   1353801|Silver Medal|         2|2021-08-08 00:00:...|           BRAIT C|        BRAIT Camila|         BRA|            VVO|               Women|              Brazil|       Volleyball|Female|\n",
      "|   1343630|Bronze Medal|         3|2021-08-08 00:00:...|  BREDAL OFTEDAL S|BREDAL OFTEDAL Stine|         NOR|            HBL|               Women|              Norway|         Handball|Female|\n",
      "|   1330503|  Gold Medal|         1|2021-08-03 00:00:...|       BRENNAUER L|      BRENNAUER Lisa|         GER|            CTR|Women's Team Pursuit|             Germany|    Cycling Track|Female|\n",
      "|   1443737|Bronze Medal|         3|2021-08-07 00:00:...|         CABRERA M|       CABRERA Melky|         DOM|            BSB|            Baseball|  Dominican Republic|Baseball/Softball|  Male|\n",
      "|   1482860|Bronze Medal|         3|2021-07-31 00:00:...|        CAMPBELL B|     CAMPBELL Bronte|         AUS|            SWM|Mixed 4 x 100m Me...|           Australia|         Swimming|Female|\n",
      "|   1482860|  Gold Medal|         1|2021-07-25 00:00:...|        CAMPBELL B|     CAMPBELL Bronte|         AUS|            SWM|Women's 4 x 100m ...|           Australia|         Swimming|Female|\n",
      "|   1331855|Silver Medal|         2|2021-07-28 00:00:...|      CAPOBIANCO A|   CAPOBIANCO Andrew|         USA|            DIV|Men's Synchronise...|United States of ...|           Diving|  Male|\n",
      "+----------+------------+----------+--------------------+------------------+--------------------+------------+---------------+--------------------+--------------------+-----------------+------+\n",
      "only showing top 20 rows\n"
     ]
    }
   ],
   "source": [
    "df1_m = df_m.join(df1_a.select(\"athlete_id\"), \"athlete_id\", \"inner\")\n",
    "df1_m = df1_m.join(df1_a.select(\"athlete_id\", \"gender\"), \"athlete_id\", \"inner\")\n",
    "df1_m = df1_m.drop('athlete_sex')\n",
    "df1_m.show()"
   ]
  },
  {
   "cell_type": "code",
   "execution_count": 65,
   "metadata": {
    "tags": []
   },
   "outputs": [
    {
     "name": "stdout",
     "output_type": "stream",
     "text": [
      "+----------+----------+----------+----------+------------------+------------+------------+---------------+-----+-------+----------+------+\n",
      "|athlete_id|medal_type|medal_code|medal_date|athlete_short_name|athlete_name|country_code|discipline_code|event|country|discipline|gender|\n",
      "+----------+----------+----------+----------+------------------+------------+------------+---------------+-----+-------+----------+------+\n",
      "|         0|         0|         0|         0|                 0|           0|           0|              0|    0|      0|         0|     0|\n",
      "+----------+----------+----------+----------+------------------+------------+------------+---------------+-----+-------+----------+------+\n"
     ]
    }
   ],
   "source": [
    "total_nulls = df1_m.select([count(when(col(c).contains('None') | \\\n",
    "                            col(c).contains('NULL') | \\\n",
    "                            (col(c) == '' ),c \n",
    "                           )).alias(c)\n",
    "                    for c in df1_m.columns])\n",
    "total_nulls.show()"
   ]
  },
  {
   "cell_type": "code",
   "execution_count": 66,
   "metadata": {
    "tags": []
   },
   "outputs": [
    {
     "name": "stdout",
     "output_type": "stream",
     "text": [
      "+----+------------+----------+------------+------------+-----+-------+\n",
      "|Rank|Country Code|Gold Medal|Silver Medal|Bronze Medal|Total|Country|\n",
      "+----+------------+----------+------------+------------+-----+-------+\n",
      "|   0|           0|         0|           0|           0|    0|      0|\n",
      "+----+------------+----------+------------+------------+-----+-------+\n"
     ]
    }
   ],
   "source": [
    "total_nulls = df_mt.select([count(when(col(c).contains('None') | \\\n",
    "                            col(c).contains('NULL') | \\\n",
    "                            (col(c) == '' ),c \n",
    "                           )).alias(c)\n",
    "                    for c in df_mt.columns])\n",
    "total_nulls.show()"
   ]
  },
  {
   "cell_type": "code",
   "execution_count": 70,
   "metadata": {
    "tags": []
   },
   "outputs": [
    {
     "name": "stdout",
     "output_type": "stream",
     "text": [
      "+----+----------+------+----------+-------+----------+--------+---+-----+\n",
      "|name|short_name|gender|birth_date|country|discipline|function|url|to_id|\n",
      "+----+----------+------+----------+-------+----------+--------+---+-----+\n",
      "|   0|         0|     0|         0|      0|         0|       0|  0|    0|\n",
      "+----+----------+------+----------+-------+----------+--------+---+-----+\n"
     ]
    }
   ],
   "source": [
    "total_nulls = df_t.select([count(when(col(c).contains('None') | \\\n",
    "                            col(c).contains('NULL') | \\\n",
    "                            (col(c) == '' ),c \n",
    "                           )).alias(c)\n",
    "                    for c in df_t.columns])\n",
    "total_nulls.show()\n",
    "df_t = df_t.withColumn(\"to_id\", regexp_extract(col(\"url\"), r'n(\\d+)-', 1))\n",
    "df_t=df_t.drop('url')"
   ]
  },
  {
   "cell_type": "code",
   "execution_count": 71,
   "metadata": {
    "tags": []
   },
   "outputs": [
    {
     "name": "stdout",
     "output_type": "stream",
     "text": [
      "+-------------------+-----------+------+----------+--------------------+----------------+--------------------+-------+\n",
      "|               name| short_name|gender|birth_date|             country|      discipline|            function|  to_id|\n",
      "+-------------------+-----------+------+----------+--------------------+----------------+--------------------+-------+\n",
      "|           ZWI Noam|      ZWI N|  Male|1958-04-20|              Israel|      Water Polo|               Judge|1571974|\n",
      "|           ZWI Noam|      ZWI N|  Male|1958-04-20|              Israel|          Diving|               Judge|1571974|\n",
      "|      ZWART Michiel|    ZWART M|  Male|1986-11-08|         Netherlands|      Water Polo|             Referee|1572083|\n",
      "|        ZOURAK Adil|   ZOURAK A|  Male|1978-08-25|             Morocco|        Football|Video Assistant R...|1562057|\n",
      "|      ZINGER Edward|   ZINGER E|  Male|1969-07-21|              Canada|       Wrestling|               Judge|1542965|\n",
      "|        ZHU Linfang|      ZHU L|Female|1982-09-25|People's Republic...|       Taekwondo|             Referee|1496744|\n",
      "|        ZHOU Jihong|    ZHOU J.|Female|1965-01-11|People's Republic...|          Diving|               Judge|1573136|\n",
      "|            ZHAO Qi|     ZHAO Q|  Male|1974-05-01|People's Republic...|          Diving|               Judge|1573168|\n",
      "|        ZHANG Liang|    ZHANG L|  Male|1984-08-05|People's Republic...|      Water Polo|             Referee|1571969|\n",
      "|          ZHANG Guo|    ZHANG G|  Male|1977-03-05|People's Republic...|          Boxing|               Judge|1503860|\n",
      "|  ZEEGELAAR Zachari|ZEEGELAAR Z|  Male|1989-10-03|            Suriname|        Football|   Assistant Referee|1561951|\n",
      "|     ZAMPIERI Marco| ZAMPIERI M|  Male|1974-02-08|               Italy|          Diving|               Judge|1572005|\n",
      "|      ZALESKI Carol|  ZALESKI C|Female|1938-08-23|United States of ...|      Water Polo|               Judge|1573205|\n",
      "|      ZALESKI Carol|  ZALESKI C|Female|1938-08-23|United States of ...|          Diving|               Judge|1573205|\n",
      "|      ZAHONYI Tamas|  ZAHONYI T|  Male|1978-05-29|             Hungary|            Judo|               Judge|1337952|\n",
      "|YUCEL Mehmet Gurhan|   YUCEL MG|  Male|1982-06-22|              Turkey|       Wrestling|               Judge|1543328|\n",
      "|        YUAN Haoran|     YUAN H|  Male|1973-05-02|People's Republic...|      Water Polo|               Judge|1571975|\n",
      "|        YUAN Haoran|     YUAN H|  Male|1973-05-02|People's Republic...|          Diving|               Judge|1571975|\n",
      "|       YOUNES Walid|   YOUNES W|  Male|1966-07-20|         Switzerland|       Taekwondo|             Referee|1534343|\n",
      "|   YOSHITANI Yusuke|YOSHITANI Y|  Male|1982-06-18|               Japan|Beach Volleyball|             Referee|1442957|\n",
      "+-------------------+-----------+------+----------+--------------------+----------------+--------------------+-------+\n",
      "only showing top 20 rows\n"
     ]
    }
   ],
   "source": [
    "df_t.show()"
   ]
  },
  {
   "cell_type": "code",
   "execution_count": 50,
   "metadata": {
    "editable": true
   },
   "outputs": [
    {
     "name": "stdout",
     "output_type": "stream",
     "text": [
      "\n"
     ]
    }
   ],
   "source": [
    "df1_a.repartition(1).write.option(\"header\", \"true\").mode(\"append\").csv(\"s3://bunny970/Dataset_ETL_target/Athletes_updated.csv\")\n",
    "df1_c.repartition(1).write.option(\"header\", \"true\").mode(\"append\").csv(\"s3://bunny970/Dataset_ETL_target/Coaches_updated.csv\")\n",
    "df1_m.repartition(1).write.option(\"header\", \"true\").mode(\"append\").csv(\"s3://bunny970/Dataset_ETL_target/Medals_updated.csv\")\n",
    "df_mt.repartition(1).write.option(\"header\", \"true\").mode(\"append\").csv(\"s3://bunny970/Dataset_ETL_target/Medals_total_updated.csv\")\n",
    "df_t.repartition(1).write.option(\"header\", \"true\").mode(\"append\").csv(\"s3://bunny970/Dataset_ETL_target/Technical_updated.csv\")"
   ]
  },
  {
   "cell_type": "code",
   "execution_count": null,
   "metadata": {},
   "outputs": [],
   "source": []
  }
 ],
 "metadata": {
  "kernelspec": {
   "display_name": "Python 3 (ipykernel)",
   "language": "python",
   "name": "python3"
  },
  "language_info": {
   "codemirror_mode": {
    "name": "ipython",
    "version": 3
   },
   "file_extension": ".py",
   "mimetype": "text/x-python",
   "name": "python",
   "nbconvert_exporter": "python",
   "pygments_lexer": "ipython3",
   "version": "3.11.4"
  }
 },
 "nbformat": 4,
 "nbformat_minor": 4
}
